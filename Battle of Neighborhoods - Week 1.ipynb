{
 "cells": [
  {
   "cell_type": "markdown",
   "metadata": {
    "collapsed": true
   },
   "source": [
    "\n",
    "<font size=\"+3\"><B><p style=\"text-align: center;\">Capstone Project - The Battle of Neighborhoods (Week 1)</p></B></font>"
   ]
  },
  {
   "cell_type": "markdown",
   "metadata": {},
   "source": [
    "### Part 1 : Introduction and Data Sections"
   ]
  },
  {
   "cell_type": "markdown",
   "metadata": {},
   "source": [
    "## 1. Introduction"
   ]
  },
  {
   "cell_type": "markdown",
   "metadata": {},
   "source": [
    "My brother is a restorers and has a restaurant in the north of Paris (France). He wants to expand his business and create a chain of restaurants in France at first and then in Europe . For his second restaurant, he stays in Paris and he would like to be in a neighborhood similar to the first restaurant area such as various international cousine restaurants, cafes, food shops, entertainment, subways and other amenities.\n",
    "\n",
    "<B>Business Problem and Interested Audience:</B>  \n",
    "The challenge is to find a similar neighborhood similar to the first restaurant. The data required to resolve this challenge is the List of Boroughs and neighborhoods of Paris with their geodata (latitud and longitud)\n",
    "\n",
    "I believe this is a relevant challenge with valid questions for anyone creating a chain of restaurants . The same methodology can be applied in accordance to demands as applicable. It can also serve as a good practical exercise to develop Data Science skills."
   ]
  },
  {
   "cell_type": "markdown",
   "metadata": {},
   "source": [
    "## 2. Data section"
   ]
  },
  {
   "cell_type": "markdown",
   "metadata": {},
   "source": [
    "<span style=\"text-decoration: underline;\">The following data is required to answer the issues of the problem:</span>\n",
    "\n",
    "List of Boroughs and neighborhoods of Paris with their geodata (latitud and longitud)  \n",
    "List of Subway metro stations in Paris with their address location  \n",
    "Venues for each Paris's neighborhood ( than can be clustered)  \n",
    "\n",
    "<span style=\"text-decoration: underline;\">The data will be used as follows:</span>  \n",
    "Use Foursquare and geopy data to map top 10 venues for all Paris neighborhoods and clustered in groups\n",
    "\n",
    "Data will be searched in open data sources if available, from wikipedia, libraries or other government agencies such as Paris City Hall."
   ]
  },
  {
   "cell_type": "code",
   "execution_count": null,
   "metadata": {},
   "outputs": [],
   "source": []
  }
 ],
 "metadata": {
  "kernelspec": {
   "display_name": "Python 3.6",
   "language": "python",
   "name": "python3"
  },
  "language_info": {
   "codemirror_mode": {
    "name": "ipython",
    "version": 3
   },
   "file_extension": ".py",
   "mimetype": "text/x-python",
   "name": "python",
   "nbconvert_exporter": "python",
   "pygments_lexer": "ipython3",
   "version": "3.6.8"
  }
 },
 "nbformat": 4,
 "nbformat_minor": 1
}
