{
 "cells": [
  {
   "cell_type": "markdown",
   "metadata": {
    "collapsed": true
   },
   "source": [
    "\n",
    "### Capstone Project - The Battle of Neighborhoods (Week 1)"
   ]
  },
  {
   "cell_type": "markdown",
   "metadata": {},
   "source": [
    "## Table of contents"
   ]
  },
  {
   "cell_type": "markdown",
   "metadata": {},
   "source": [
    "[Introduction](#intro_cell)  \n",
    "[Data section](#data_cell)"
   ]
  },
  {
   "cell_type": "markdown",
   "metadata": {},
   "source": [
    "### Part 1 : Introduction and Data Sections"
   ]
  },
  {
   "cell_type": "markdown",
   "metadata": {},
   "source": [
    "<a id='intro_cell'></a>"
   ]
  },
  {
   "cell_type": "markdown",
   "metadata": {},
   "source": [
    "## 1. Introduction"
   ]
  },
  {
   "cell_type": "markdown",
   "metadata": {},
   "source": [
    "My brother is a restorers and has a japanese restaurant in the north of Paris (France). He wants to expand his business and create a chain of japanese restaurants in France at first and then in Europe . For his second restaurant, he stays in Paris and he would like to detect the optimal location for this second restaurant. He would like to be in a neighborhood similar to the first restaurant area with some constraints that are:\n"
   ]
  },
  {
   "cell_type": "markdown",
   "metadata": {},
   "source": [
    "* no japanese restaurants in vicinity\n",
    "* neighborhood with two middle school at least\n",
    "* neighborhood with one bike station at least\n",
    "* neighborhood close to city center as possible"
   ]
  },
  {
   "cell_type": "markdown",
   "metadata": {},
   "source": [
    "__Business Problem and Interested Audience:__"
   ]
  },
  {
   "cell_type": "markdown",
   "metadata": {},
   "source": [
    "The challenge is to find the optimal location for a japanese restaurant in a city like Paris or New York. I believe this is a relevant challenge with valid questions for anyone want to have a chain of restaurants in  to other large city in US, EU or Asia. The same methodology can be applied with other type of restaurant."
   ]
  },
  {
   "cell_type": "markdown",
   "metadata": {},
   "source": [
    "<a id='data_cell'></a>"
   ]
  },
  {
   "cell_type": "markdown",
   "metadata": {},
   "source": [
    "## 2. Data section"
   ]
  },
  {
   "cell_type": "markdown",
   "metadata": {},
   "source": [
    "The following data is required to answer the issues of the problem:\n",
    "\n",
    "List of Boroughs and neighborhoods of Paris with their geodata (latitud and longitud)\n",
    "List of middle schools Paris with their geodata (latitud and longitud)\n",
    "List of bike station in Paris with their address location\n",
    "List of existing japanese restaurants in the neighborhood\n",
    "distance of neighborhood from city center\n",
    "\n",
    "Following data sources will be needed to extract/generate the required information:"
   ]
  },
  {
   "cell_type": "markdown",
   "metadata": {},
   "source": [
    "* centers of candidate areas will be generated algorithmically and approximate addresses of centers of those areas will be obtained using Foursquare\n",
    "List of japanese restaurants and their type and location in every neighborhood will be obtained using Foursquare API\n",
    "\n",
    "* coordinate of Paris center will be obtained using Foursquare\n",
    "\n",
    "* List of Boroughs and neighborhoods of Paris with their geodata (latitud and longitud) are available for free at the Paris City Hall website (https://opendata.paris.fr/explore/dataset/quartier_paris/table/)\n",
    "\n",
    "* List of middle schools Paris with their geodata (latitud and longitud) are available for free at the Paris City Hall website (https://opendata.paris.fr/explore/dataset/secteurs-scolaires/table/?disjunctive.id_projet&disjunctive.zone_commune&disjunctive.annee_scol)\n",
    "\n",
    "* List of bike station in Paris with their address location are available for free at the Paris City Hall website (https://opendata.paris.fr/explore/dataset/velib-emplacement-des-stations/table/)\n"
   ]
  }
 ],
 "metadata": {
  "kernelspec": {
   "display_name": "Python 3.6",
   "language": "python",
   "name": "python3"
  },
  "language_info": {
   "codemirror_mode": {
    "name": "ipython",
    "version": 3
   },
   "file_extension": ".py",
   "mimetype": "text/x-python",
   "name": "python",
   "nbconvert_exporter": "python",
   "pygments_lexer": "ipython3",
   "version": "3.6.8"
  }
 },
 "nbformat": 4,
 "nbformat_minor": 1
}

